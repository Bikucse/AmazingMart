{
 "cells": [
  {
   "cell_type": "code",
   "execution_count": 1,
   "id": "17962a80",
   "metadata": {},
   "outputs": [],
   "source": [
    "import numpy as np \n",
    "# numpy aliased as np\n",
    "import pandas as pd\n",
    "# pandas aliased as pd\n",
    "import matplotlib.pyplot as plt\n",
    "# matplotlib aliased as plt\n",
    "import seaborn as sns\n",
    "# seaborn aliased as sns"
   ]
  },
  {
   "cell_type": "code",
   "execution_count": null,
   "id": "a2d97a1c",
   "metadata": {},
   "outputs": [],
   "source": []
  },
  {
   "cell_type": "code",
   "execution_count": 2,
   "id": "5daa856b",
   "metadata": {},
   "outputs": [
    {
     "name": "stdout",
     "output_type": "stream",
     "text": [
      "<class 'pandas.core.frame.DataFrame'>\n",
      "(8047, 9)\n"
     ]
    },
    {
     "data": {
      "text/html": [
       "<div>\n",
       "<style scoped>\n",
       "    .dataframe tbody tr th:only-of-type {\n",
       "        vertical-align: middle;\n",
       "    }\n",
       "\n",
       "    .dataframe tbody tr th {\n",
       "        vertical-align: top;\n",
       "    }\n",
       "\n",
       "    .dataframe thead th {\n",
       "        text-align: right;\n",
       "    }\n",
       "</style>\n",
       "<table border=\"1\" class=\"dataframe\">\n",
       "  <thead>\n",
       "    <tr style=\"text-align: right;\">\n",
       "      <th></th>\n",
       "      <th>Order ID</th>\n",
       "      <th>Product Name</th>\n",
       "      <th>Discount</th>\n",
       "      <th>Actual Discount</th>\n",
       "      <th>Sales</th>\n",
       "      <th>Profit</th>\n",
       "      <th>Quantity</th>\n",
       "      <th>Category</th>\n",
       "      <th>Sub-Category</th>\n",
       "    </tr>\n",
       "  </thead>\n",
       "  <tbody>\n",
       "    <tr>\n",
       "      <th>0</th>\n",
       "      <td>BN-2011-7407039</td>\n",
       "      <td>Enermax Note Cards, Premium</td>\n",
       "      <td>0.5</td>\n",
       "      <td>22.5</td>\n",
       "      <td>45</td>\n",
       "      <td>-26</td>\n",
       "      <td>3</td>\n",
       "      <td>Office Supplies</td>\n",
       "      <td>Paper</td>\n",
       "    </tr>\n",
       "    <tr>\n",
       "      <th>1</th>\n",
       "      <td>AZ-2011-9050313</td>\n",
       "      <td>Dania Corner Shelving, Traditional</td>\n",
       "      <td>0.0</td>\n",
       "      <td>0.0</td>\n",
       "      <td>854</td>\n",
       "      <td>290</td>\n",
       "      <td>7</td>\n",
       "      <td>Furniture</td>\n",
       "      <td>Bookcases</td>\n",
       "    </tr>\n",
       "    <tr>\n",
       "      <th>2</th>\n",
       "      <td>AZ-2011-6674300</td>\n",
       "      <td>Binney &amp; Smith Sketch Pad, Easy-Erase</td>\n",
       "      <td>0.0</td>\n",
       "      <td>0.0</td>\n",
       "      <td>140</td>\n",
       "      <td>21</td>\n",
       "      <td>3</td>\n",
       "      <td>Office Supplies</td>\n",
       "      <td>Art</td>\n",
       "    </tr>\n",
       "    <tr>\n",
       "      <th>3</th>\n",
       "      <td>BN-2011-2819714</td>\n",
       "      <td>Boston Markers, Easy-Erase</td>\n",
       "      <td>0.5</td>\n",
       "      <td>13.5</td>\n",
       "      <td>27</td>\n",
       "      <td>-22</td>\n",
       "      <td>2</td>\n",
       "      <td>Office Supplies</td>\n",
       "      <td>Art</td>\n",
       "    </tr>\n",
       "    <tr>\n",
       "      <th>4</th>\n",
       "      <td>BN-2011-2819714</td>\n",
       "      <td>Eldon Folders, Single Width</td>\n",
       "      <td>0.5</td>\n",
       "      <td>8.5</td>\n",
       "      <td>17</td>\n",
       "      <td>-1</td>\n",
       "      <td>2</td>\n",
       "      <td>Office Supplies</td>\n",
       "      <td>Storage</td>\n",
       "    </tr>\n",
       "  </tbody>\n",
       "</table>\n",
       "</div>"
      ],
      "text/plain": [
       "          Order ID                           Product Name  Discount  \\\n",
       "0  BN-2011-7407039            Enermax Note Cards, Premium       0.5   \n",
       "1  AZ-2011-9050313     Dania Corner Shelving, Traditional       0.0   \n",
       "2  AZ-2011-6674300  Binney & Smith Sketch Pad, Easy-Erase       0.0   \n",
       "3  BN-2011-2819714             Boston Markers, Easy-Erase       0.5   \n",
       "4  BN-2011-2819714            Eldon Folders, Single Width       0.5   \n",
       "\n",
       "   Actual Discount  Sales  Profit  Quantity         Category Sub-Category  \n",
       "0             22.5     45     -26         3  Office Supplies        Paper  \n",
       "1              0.0    854     290         7        Furniture    Bookcases  \n",
       "2              0.0    140      21         3  Office Supplies          Art  \n",
       "3             13.5     27     -22         2  Office Supplies          Art  \n",
       "4              8.5     17      -1         2  Office Supplies      Storage  "
      ]
     },
     "execution_count": 2,
     "metadata": {},
     "output_type": "execute_result"
    }
   ],
   "source": [
    "df1=pd.read_json('Order_breakdown.json')\n",
    "print(type(df1))\n",
    "print(df1.shape)\n",
    "df1.head()\n"
   ]
  },
  {
   "cell_type": "code",
   "execution_count": 3,
   "id": "8b59b4a2",
   "metadata": {},
   "outputs": [
    {
     "name": "stdout",
     "output_type": "stream",
     "text": [
      "<class 'pandas.core.frame.DataFrame'>\n",
      "(4117, 11)\n"
     ]
    },
    {
     "data": {
      "text/html": [
       "<div>\n",
       "<style scoped>\n",
       "    .dataframe tbody tr th:only-of-type {\n",
       "        vertical-align: middle;\n",
       "    }\n",
       "\n",
       "    .dataframe tbody tr th {\n",
       "        vertical-align: top;\n",
       "    }\n",
       "\n",
       "    .dataframe thead th {\n",
       "        text-align: right;\n",
       "    }\n",
       "</style>\n",
       "<table border=\"1\" class=\"dataframe\">\n",
       "  <thead>\n",
       "    <tr style=\"text-align: right;\">\n",
       "      <th></th>\n",
       "      <th>Order ID</th>\n",
       "      <th>Order Date</th>\n",
       "      <th>Customer Name</th>\n",
       "      <th>City</th>\n",
       "      <th>Country</th>\n",
       "      <th>Region</th>\n",
       "      <th>Segment</th>\n",
       "      <th>Ship Date</th>\n",
       "      <th>Ship Mode</th>\n",
       "      <th>State</th>\n",
       "      <th>Days to Ship</th>\n",
       "    </tr>\n",
       "  </thead>\n",
       "  <tbody>\n",
       "    <tr>\n",
       "      <th>0</th>\n",
       "      <td>BN-2011-7407039</td>\n",
       "      <td>1-1-13</td>\n",
       "      <td>Ruby Patel</td>\n",
       "      <td>Stockholm</td>\n",
       "      <td>Sweden</td>\n",
       "      <td>North</td>\n",
       "      <td>Home Office</td>\n",
       "      <td>1-5-13</td>\n",
       "      <td>Economy Plus</td>\n",
       "      <td>Stockholm</td>\n",
       "      <td>4</td>\n",
       "    </tr>\n",
       "    <tr>\n",
       "      <th>1</th>\n",
       "      <td>AZ-2011-9050313</td>\n",
       "      <td>1-3-13</td>\n",
       "      <td>Summer Hayward</td>\n",
       "      <td>Southport</td>\n",
       "      <td>United Kingdom</td>\n",
       "      <td>North</td>\n",
       "      <td>Consumer</td>\n",
       "      <td>1-7-13</td>\n",
       "      <td>Economy</td>\n",
       "      <td>England</td>\n",
       "      <td>4</td>\n",
       "    </tr>\n",
       "    <tr>\n",
       "      <th>2</th>\n",
       "      <td>AZ-2011-6674300</td>\n",
       "      <td>1-4-13</td>\n",
       "      <td>Devin Huddleston</td>\n",
       "      <td>Valence</td>\n",
       "      <td>France</td>\n",
       "      <td>Central</td>\n",
       "      <td>Consumer</td>\n",
       "      <td>1-8-13</td>\n",
       "      <td>Economy</td>\n",
       "      <td>Auvergne-Rhône-Alpes</td>\n",
       "      <td>4</td>\n",
       "    </tr>\n",
       "    <tr>\n",
       "      <th>3</th>\n",
       "      <td>BN-2011-2819714</td>\n",
       "      <td>1-4-13</td>\n",
       "      <td>Mary Parker</td>\n",
       "      <td>Birmingham</td>\n",
       "      <td>United Kingdom</td>\n",
       "      <td>North</td>\n",
       "      <td>Corporate</td>\n",
       "      <td>1-9-13</td>\n",
       "      <td>Economy</td>\n",
       "      <td>England</td>\n",
       "      <td>5</td>\n",
       "    </tr>\n",
       "    <tr>\n",
       "      <th>4</th>\n",
       "      <td>AZ-2011-617423</td>\n",
       "      <td>1-5-13</td>\n",
       "      <td>Daniel Burke</td>\n",
       "      <td>Echirolles</td>\n",
       "      <td>France</td>\n",
       "      <td>Central</td>\n",
       "      <td>Home Office</td>\n",
       "      <td>1-7-13</td>\n",
       "      <td>Priority</td>\n",
       "      <td>Auvergne-Rhône-Alpes</td>\n",
       "      <td>2</td>\n",
       "    </tr>\n",
       "  </tbody>\n",
       "</table>\n",
       "</div>"
      ],
      "text/plain": [
       "          Order ID Order Date     Customer Name        City         Country  \\\n",
       "0  BN-2011-7407039     1-1-13        Ruby Patel   Stockholm          Sweden   \n",
       "1  AZ-2011-9050313     1-3-13    Summer Hayward   Southport  United Kingdom   \n",
       "2  AZ-2011-6674300     1-4-13  Devin Huddleston     Valence          France   \n",
       "3  BN-2011-2819714     1-4-13       Mary Parker  Birmingham  United Kingdom   \n",
       "4   AZ-2011-617423     1-5-13      Daniel Burke  Echirolles          France   \n",
       "\n",
       "    Region      Segment Ship Date     Ship Mode                 State  \\\n",
       "0    North  Home Office    1-5-13  Economy Plus             Stockholm   \n",
       "1    North     Consumer    1-7-13       Economy               England   \n",
       "2  Central     Consumer    1-8-13       Economy  Auvergne-Rhône-Alpes   \n",
       "3    North    Corporate    1-9-13       Economy               England   \n",
       "4  Central  Home Office    1-7-13      Priority  Auvergne-Rhône-Alpes   \n",
       "\n",
       "   Days to Ship  \n",
       "0             4  \n",
       "1             4  \n",
       "2             4  \n",
       "3             5  \n",
       "4             2  "
      ]
     },
     "execution_count": 3,
     "metadata": {},
     "output_type": "execute_result"
    }
   ],
   "source": [
    "df2=pd.read_table('Order.tsv')\n",
    "print(type(df2))\n",
    "print(df2.shape)\n",
    "df2.head()"
   ]
  },
  {
   "cell_type": "code",
   "execution_count": null,
   "id": "b9fa2b84",
   "metadata": {},
   "outputs": [],
   "source": []
  },
  {
   "cell_type": "code",
   "execution_count": 4,
   "id": "e3811d17",
   "metadata": {},
   "outputs": [
    {
     "name": "stdout",
     "output_type": "stream",
     "text": [
      "<class 'pandas.core.frame.DataFrame'>\n",
      "(8047, 19)\n"
     ]
    }
   ],
   "source": [
    "\n",
    "df3=df1.merge(df2)\n",
    "print(type(df3))\n",
    "print(df3.shape)\n"
   ]
  },
  {
   "cell_type": "code",
   "execution_count": null,
   "id": "d96cfe60",
   "metadata": {},
   "outputs": [],
   "source": []
  },
  {
   "cell_type": "code",
   "execution_count": null,
   "id": "a0342298",
   "metadata": {},
   "outputs": [],
   "source": []
  },
  {
   "cell_type": "code",
   "execution_count": 90,
   "id": "deb1657a",
   "metadata": {},
   "outputs": [],
   "source": [
    "df3.to_csv('Amazing Mart.csv',index=False)\n",
    "# Explore the data using exel and download the explored data\n",
    "df=pd.read_csv('Amazing Mart - Amazing Mart.csv')\n"
   ]
  },
  {
   "cell_type": "code",
   "execution_count": null,
   "id": "90ee280a",
   "metadata": {},
   "outputs": [],
   "source": []
  },
  {
   "cell_type": "code",
   "execution_count": 91,
   "id": "b1f588e5",
   "metadata": {},
   "outputs": [
    {
     "data": {
      "text/html": [
       "<div>\n",
       "<style scoped>\n",
       "    .dataframe tbody tr th:only-of-type {\n",
       "        vertical-align: middle;\n",
       "    }\n",
       "\n",
       "    .dataframe tbody tr th {\n",
       "        vertical-align: top;\n",
       "    }\n",
       "\n",
       "    .dataframe thead th {\n",
       "        text-align: right;\n",
       "    }\n",
       "</style>\n",
       "<table border=\"1\" class=\"dataframe\">\n",
       "  <thead>\n",
       "    <tr style=\"text-align: right;\">\n",
       "      <th></th>\n",
       "      <th>Product</th>\n",
       "      <th>Sales</th>\n",
       "      <th>Profit</th>\n",
       "      <th>Quantity</th>\n",
       "      <th>Order Date</th>\n",
       "      <th>Customer Name</th>\n",
       "      <th>City</th>\n",
       "      <th>Country</th>\n",
       "      <th>Region</th>\n",
       "      <th>Ship Date</th>\n",
       "      <th>State</th>\n",
       "      <th>year</th>\n",
       "    </tr>\n",
       "  </thead>\n",
       "  <tbody>\n",
       "    <tr>\n",
       "      <th>0</th>\n",
       "      <td>Enermax</td>\n",
       "      <td>45</td>\n",
       "      <td>-26</td>\n",
       "      <td>3</td>\n",
       "      <td>2013-01-01</td>\n",
       "      <td>Ruby Patel</td>\n",
       "      <td>Stockholm</td>\n",
       "      <td>Sweden</td>\n",
       "      <td>North</td>\n",
       "      <td>1-5-13</td>\n",
       "      <td>Stockholm</td>\n",
       "      <td>2013</td>\n",
       "    </tr>\n",
       "    <tr>\n",
       "      <th>1</th>\n",
       "      <td>Dania</td>\n",
       "      <td>854</td>\n",
       "      <td>290</td>\n",
       "      <td>7</td>\n",
       "      <td>2013-01-03</td>\n",
       "      <td>Summer Hayward</td>\n",
       "      <td>Southport</td>\n",
       "      <td>United Kingdom</td>\n",
       "      <td>North</td>\n",
       "      <td>1-7-13</td>\n",
       "      <td>England</td>\n",
       "      <td>2013</td>\n",
       "    </tr>\n",
       "    <tr>\n",
       "      <th>2</th>\n",
       "      <td>Binney</td>\n",
       "      <td>140</td>\n",
       "      <td>21</td>\n",
       "      <td>3</td>\n",
       "      <td>2013-01-04</td>\n",
       "      <td>Devin Huddleston</td>\n",
       "      <td>Valence</td>\n",
       "      <td>France</td>\n",
       "      <td>Central</td>\n",
       "      <td>1-8-13</td>\n",
       "      <td>Auvergne-Rhône-Alpes</td>\n",
       "      <td>2013</td>\n",
       "    </tr>\n",
       "    <tr>\n",
       "      <th>3</th>\n",
       "      <td>Boston</td>\n",
       "      <td>27</td>\n",
       "      <td>-22</td>\n",
       "      <td>2</td>\n",
       "      <td>2013-01-04</td>\n",
       "      <td>Mary Parker</td>\n",
       "      <td>Birmingham</td>\n",
       "      <td>United Kingdom</td>\n",
       "      <td>North</td>\n",
       "      <td>1-9-13</td>\n",
       "      <td>England</td>\n",
       "      <td>2013</td>\n",
       "    </tr>\n",
       "    <tr>\n",
       "      <th>4</th>\n",
       "      <td>Eldon</td>\n",
       "      <td>17</td>\n",
       "      <td>-1</td>\n",
       "      <td>2</td>\n",
       "      <td>2013-01-04</td>\n",
       "      <td>Mary Parker</td>\n",
       "      <td>Birmingham</td>\n",
       "      <td>United Kingdom</td>\n",
       "      <td>North</td>\n",
       "      <td>1-9-13</td>\n",
       "      <td>England</td>\n",
       "      <td>2013</td>\n",
       "    </tr>\n",
       "  </tbody>\n",
       "</table>\n",
       "</div>"
      ],
      "text/plain": [
       "   Product  Sales  Profit  Quantity Order Date     Customer Name        City  \\\n",
       "0  Enermax     45     -26         3 2013-01-01        Ruby Patel   Stockholm   \n",
       "1    Dania    854     290         7 2013-01-03    Summer Hayward   Southport   \n",
       "2   Binney    140      21         3 2013-01-04  Devin Huddleston     Valence   \n",
       "3   Boston     27     -22         2 2013-01-04       Mary Parker  Birmingham   \n",
       "4    Eldon     17      -1         2 2013-01-04       Mary Parker  Birmingham   \n",
       "\n",
       "          Country   Region Ship Date                 State  year  \n",
       "0          Sweden    North    1-5-13             Stockholm  2013  \n",
       "1  United Kingdom    North    1-7-13               England  2013  \n",
       "2          France  Central    1-8-13  Auvergne-Rhône-Alpes  2013  \n",
       "3  United Kingdom    North    1-9-13               England  2013  \n",
       "4  United Kingdom    North    1-9-13               England  2013  "
      ]
     },
     "execution_count": 91,
     "metadata": {},
     "output_type": "execute_result"
    }
   ],
   "source": [
    "df['Order Date']=pd.to_datetime(df['Order Date'])\n",
    "df['year']=df['Order Date'].dt.year\n",
    "df.head()"
   ]
  },
  {
   "cell_type": "code",
   "execution_count": 92,
   "id": "47ede381",
   "metadata": {},
   "outputs": [],
   "source": [
    "df.drop(df.columns[[4,5,6,7,8,9,10]], axis=1, inplace=True)"
   ]
  },
  {
   "cell_type": "code",
   "execution_count": 93,
   "id": "7001ff74",
   "metadata": {},
   "outputs": [
    {
     "data": {
      "text/html": [
       "<div>\n",
       "<style scoped>\n",
       "    .dataframe tbody tr th:only-of-type {\n",
       "        vertical-align: middle;\n",
       "    }\n",
       "\n",
       "    .dataframe tbody tr th {\n",
       "        vertical-align: top;\n",
       "    }\n",
       "\n",
       "    .dataframe thead th {\n",
       "        text-align: right;\n",
       "    }\n",
       "</style>\n",
       "<table border=\"1\" class=\"dataframe\">\n",
       "  <thead>\n",
       "    <tr style=\"text-align: right;\">\n",
       "      <th></th>\n",
       "      <th>Product</th>\n",
       "      <th>Sales</th>\n",
       "      <th>Profit</th>\n",
       "      <th>Quantity</th>\n",
       "      <th>year</th>\n",
       "    </tr>\n",
       "  </thead>\n",
       "  <tbody>\n",
       "    <tr>\n",
       "      <th>0</th>\n",
       "      <td>Enermax</td>\n",
       "      <td>45</td>\n",
       "      <td>-26</td>\n",
       "      <td>3</td>\n",
       "      <td>2013</td>\n",
       "    </tr>\n",
       "    <tr>\n",
       "      <th>1</th>\n",
       "      <td>Dania</td>\n",
       "      <td>854</td>\n",
       "      <td>290</td>\n",
       "      <td>7</td>\n",
       "      <td>2013</td>\n",
       "    </tr>\n",
       "    <tr>\n",
       "      <th>2</th>\n",
       "      <td>Binney</td>\n",
       "      <td>140</td>\n",
       "      <td>21</td>\n",
       "      <td>3</td>\n",
       "      <td>2013</td>\n",
       "    </tr>\n",
       "    <tr>\n",
       "      <th>3</th>\n",
       "      <td>Boston</td>\n",
       "      <td>27</td>\n",
       "      <td>-22</td>\n",
       "      <td>2</td>\n",
       "      <td>2013</td>\n",
       "    </tr>\n",
       "    <tr>\n",
       "      <th>4</th>\n",
       "      <td>Eldon</td>\n",
       "      <td>17</td>\n",
       "      <td>-1</td>\n",
       "      <td>2</td>\n",
       "      <td>2013</td>\n",
       "    </tr>\n",
       "  </tbody>\n",
       "</table>\n",
       "</div>"
      ],
      "text/plain": [
       "   Product  Sales  Profit  Quantity  year\n",
       "0  Enermax     45     -26         3  2013\n",
       "1    Dania    854     290         7  2013\n",
       "2   Binney    140      21         3  2013\n",
       "3   Boston     27     -22         2  2013\n",
       "4    Eldon     17      -1         2  2013"
      ]
     },
     "execution_count": 93,
     "metadata": {},
     "output_type": "execute_result"
    }
   ],
   "source": [
    "df.shape\n",
    "df.head()"
   ]
  },
  {
   "cell_type": "code",
   "execution_count": 94,
   "id": "d7c73030",
   "metadata": {},
   "outputs": [
    {
     "name": "stdout",
     "output_type": "stream",
     "text": [
      "<class 'pandas.core.frame.DataFrame'>\n",
      "RangeIndex: 8047 entries, 0 to 8046\n",
      "Data columns (total 5 columns):\n",
      " #   Column    Non-Null Count  Dtype \n",
      "---  ------    --------------  ----- \n",
      " 0   Product   8047 non-null   object\n",
      " 1   Sales     8047 non-null   int64 \n",
      " 2   Profit    8047 non-null   int64 \n",
      " 3   Quantity  8047 non-null   int64 \n",
      " 4   year      8047 non-null   int64 \n",
      "dtypes: int64(4), object(1)\n",
      "memory usage: 314.5+ KB\n"
     ]
    }
   ],
   "source": [
    "df.info()"
   ]
  },
  {
   "cell_type": "code",
   "execution_count": null,
   "id": "6df41a74",
   "metadata": {},
   "outputs": [],
   "source": []
  },
  {
   "cell_type": "code",
   "execution_count": 95,
   "id": "c666ff9f",
   "metadata": {},
   "outputs": [
    {
     "data": {
      "text/plain": [
       "Product     0\n",
       "Sales       0\n",
       "Profit      0\n",
       "Quantity    0\n",
       "year        0\n",
       "dtype: int64"
      ]
     },
     "execution_count": 95,
     "metadata": {},
     "output_type": "execute_result"
    }
   ],
   "source": [
    "df.isnull().sum()"
   ]
  },
  {
   "cell_type": "code",
   "execution_count": null,
   "id": "1b5f69f4",
   "metadata": {},
   "outputs": [],
   "source": []
  },
  {
   "cell_type": "code",
   "execution_count": 96,
   "id": "7ea053ec",
   "metadata": {},
   "outputs": [
    {
     "data": {
      "text/plain": [
       "477"
      ]
     },
     "execution_count": 96,
     "metadata": {},
     "output_type": "execute_result"
    }
   ],
   "source": [
    "df.duplicated().sum()"
   ]
  },
  {
   "cell_type": "code",
   "execution_count": null,
   "id": "0abf76f4",
   "metadata": {},
   "outputs": [],
   "source": []
  },
  {
   "cell_type": "code",
   "execution_count": 97,
   "id": "afabf5f3",
   "metadata": {},
   "outputs": [],
   "source": [
    "df.drop_duplicates(inplace=True)  "
   ]
  },
  {
   "cell_type": "code",
   "execution_count": null,
   "id": "b4aadff6",
   "metadata": {},
   "outputs": [],
   "source": []
  },
  {
   "cell_type": "markdown",
   "id": "e558d96f",
   "metadata": {},
   "source": [
    "#### Plot sum of  Sales  and mean of Profit based on year without subplots"
   ]
  },
  {
   "cell_type": "code",
   "execution_count": 98,
   "id": "c4aa96e8",
   "metadata": {},
   "outputs": [
    {
     "data": {
      "text/html": [
       "<div>\n",
       "<style scoped>\n",
       "    .dataframe tbody tr th:only-of-type {\n",
       "        vertical-align: middle;\n",
       "    }\n",
       "\n",
       "    .dataframe tbody tr th {\n",
       "        vertical-align: top;\n",
       "    }\n",
       "\n",
       "    .dataframe thead tr th {\n",
       "        text-align: left;\n",
       "    }\n",
       "\n",
       "    .dataframe thead tr:last-of-type th {\n",
       "        text-align: right;\n",
       "    }\n",
       "</style>\n",
       "<table border=\"1\" class=\"dataframe\">\n",
       "  <thead>\n",
       "    <tr>\n",
       "      <th></th>\n",
       "      <th>Sales</th>\n",
       "      <th>Profit</th>\n",
       "    </tr>\n",
       "    <tr>\n",
       "      <th></th>\n",
       "      <th>sum</th>\n",
       "      <th>mean</th>\n",
       "    </tr>\n",
       "    <tr>\n",
       "      <th>year</th>\n",
       "      <th></th>\n",
       "      <th></th>\n",
       "    </tr>\n",
       "  </thead>\n",
       "  <tbody>\n",
       "    <tr>\n",
       "      <th>2013</th>\n",
       "      <td>404570</td>\n",
       "      <td>37.867435</td>\n",
       "    </tr>\n",
       "    <tr>\n",
       "      <th>2014</th>\n",
       "      <td>533554</td>\n",
       "      <td>36.085698</td>\n",
       "    </tr>\n",
       "    <tr>\n",
       "      <th>2015</th>\n",
       "      <td>614019</td>\n",
       "      <td>37.205631</td>\n",
       "    </tr>\n",
       "    <tr>\n",
       "      <th>2016</th>\n",
       "      <td>729733</td>\n",
       "      <td>32.932127</td>\n",
       "    </tr>\n",
       "  </tbody>\n",
       "</table>\n",
       "</div>"
      ],
      "text/plain": [
       "       Sales     Profit\n",
       "         sum       mean\n",
       "year                   \n",
       "2013  404570  37.867435\n",
       "2014  533554  36.085698\n",
       "2015  614019  37.205631\n",
       "2016  729733  32.932127"
      ]
     },
     "execution_count": 98,
     "metadata": {},
     "output_type": "execute_result"
    }
   ],
   "source": [
    "d1=df.groupby('year').agg({'Sales':['sum'],'Profit':['mean']})\n",
    "d1"
   ]
  },
  {
   "cell_type": "markdown",
   "id": "30475ee1",
   "metadata": {},
   "source": [
    "#### Multiple plots without Subpolts"
   ]
  },
  {
   "cell_type": "code",
   "execution_count": 99,
   "id": "23bcb9df",
   "metadata": {},
   "outputs": [
    {
     "data": {
      "image/png": "[encoded data removed]",
      "text/plain": [
       "<Figure size 640x480 with 1 Axes>"
      ]
     },
     "metadata": {},
     "output_type": "display_data"
    }
   ],
   "source": [
    "plt.bar(d1.index,d1[('Sales','sum')],color='orange',edgecolor='black')\n",
    "plt.plot(d1.index,d1[('Sales','sum')],color='maroon',lw=1,marker='o')\n",
    "plt.xlabel('Year')\n",
    "plt.ylabel('Sum of Sales')\n",
    "plt.title('Sum of sales vs Year')\n",
    "plt.grid()\n",
    "plt.show()"
   ]
  },
  {
   "cell_type": "markdown",
   "id": "45e3c1cf",
   "metadata": {},
   "source": [
    "#### Depict count of top 7 Product Name on countplot"
   ]
  },
  {
   "cell_type": "code",
   "execution_count": 100,
   "id": "af9dc656",
   "metadata": {},
   "outputs": [
    {
     "data": {
      "image/png": "[encoded data removed]",
      "text/plain": [
       "<Figure size 400x400 with 1 Axes>"
      ]
     },
     "metadata": {},
     "output_type": "display_data"
    }
   ],
   "source": [
    "plt.figure(figsize=(4,4))\n",
    "sns.countplot(y=df['Product'],order=df['Product'].value_counts().sort_values(ascending=False)[:7].index)\n",
    "plt.title('Top 7 Product Name')\n",
    "plt.show()"
   ]
  },
  {
   "cell_type": "code",
   "execution_count": null,
   "id": "493c2c63",
   "metadata": {},
   "outputs": [],
   "source": []
  },
  {
   "cell_type": "code",
   "execution_count": 102,
   "id": "107ff4dc",
   "metadata": {},
   "outputs": [
    {
     "data": {
      "text/plain": [
       "<matplotlib.legend.Legend at 0x27ccea68d00>"
      ]
     },
     "execution_count": 102,
     "metadata": {},
     "output_type": "execute_result"
    },
    {
     "data": {
      "image/png": "[encoded data removed]",
      "text/plain": [
       "<Figure size 640x480 with 1 Axes>"
      ]
     },
     "metadata": {},
     "output_type": "display_data"
    }
   ],
   "source": [
    "plt.pie(x=d1[('Sales','sum')],labels=d1.index,\n",
    "       colors=['red','blue','yellow','green','cyan','deeppink','dodgerblue','orange','orange','purple','maroon'],\n",
    "       autopct='%.2f%%',shadow=True,counterclock=False)\n",
    "plt.title('Selling Price ',color='blue',fontsize=10)\n",
    "plt.legend(loc='right',bbox_to_anchor=(1,1,0.6,-0.5))\n"
   ]
  },
  {
   "cell_type": "markdown",
   "id": "f06d93fc",
   "metadata": {},
   "source": [
    "#### Corelation"
   ]
  },
  {
   "cell_type": "code",
   "execution_count": 103,
   "id": "e247c4ac",
   "metadata": {},
   "outputs": [
    {
     "data": {
      "image/png": "[encoded data removed]",
      "text/plain": [
       "<Figure size 600x600 with 2 Axes>"
      ]
     },
     "metadata": {},
     "output_type": "display_data"
    }
   ],
   "source": [
    "plt.figure(figsize=(6,6))\n",
    "corr=df.corr()\n",
    "sns.heatmap(corr,annot=True,cmap='RdBu')\n",
    "plt.show()"
   ]
  },
  {
   "cell_type": "code",
   "execution_count": null,
   "id": "5f1cb764",
   "metadata": {},
   "outputs": [],
   "source": []
  },
  {
   "cell_type": "code",
   "execution_count": 104,
   "id": "09ce894e",
   "metadata": {},
   "outputs": [
    {
     "name": "stdout",
     "output_type": "stream",
     "text": [
      "(7570, 4)\n",
      "(7570,)\n",
      "<class 'pandas.core.frame.DataFrame'>\n",
      "<class 'pandas.core.series.Series'>\n"
     ]
    }
   ],
   "source": [
    "x=df.drop('Sales',axis=1)\n",
    "y=df['Sales']\n",
    "print(x.shape)\n",
    "print(y.shape)\n",
    "print(type(x))\n",
    "print(type(y))"
   ]
  },
  {
   "cell_type": "code",
   "execution_count": null,
   "id": "7ffff83e",
   "metadata": {},
   "outputs": [],
   "source": []
  },
  {
   "cell_type": "code",
   "execution_count": 105,
   "id": "0b49e2d2",
   "metadata": {},
   "outputs": [],
   "source": [
    "from sklearn.model_selection import train_test_split"
   ]
  },
  {
   "cell_type": "code",
   "execution_count": 106,
   "id": "ae5eecbd",
   "metadata": {},
   "outputs": [
    {
     "name": "stdout",
     "output_type": "stream",
     "text": [
      "(4542, 4)\n",
      "(4542,)\n",
      "(3028, 4)\n",
      "(3028,)\n",
      "<class 'pandas.core.frame.DataFrame'>\n",
      "<class 'pandas.core.series.Series'>\n",
      "<class 'pandas.core.frame.DataFrame'>\n",
      "<class 'pandas.core.series.Series'>\n"
     ]
    }
   ],
   "source": [
    "x_train,x_test,y_train,y_test=train_test_split(x,y,test_size=0.40,random_state=19)\n",
    "print(x_train.shape)\n",
    "print(y_train.shape)\n",
    "print(x_test.shape)\n",
    "print(y_test.shape)\n",
    "print(type(x_train))\n",
    "print(type(y_train))\n",
    "print(type(x_test))\n",
    "print(type(y_test))"
   ]
  },
  {
   "cell_type": "code",
   "execution_count": null,
   "id": "7b75a1c1",
   "metadata": {},
   "outputs": [],
   "source": []
  },
  {
   "cell_type": "code",
   "execution_count": 107,
   "id": "710b3a20",
   "metadata": {},
   "outputs": [],
   "source": [
    "from sklearn.metrics import mean_absolute_error,mean_squared_error,r2_score"
   ]
  },
  {
   "cell_type": "code",
   "execution_count": 108,
   "id": "811f4e04",
   "metadata": {},
   "outputs": [],
   "source": [
    "def reg_eval_matrics(ytest,ypred):\n",
    "    mae=mean_absolute_error(ytest,ypred)\n",
    "    mse=mean_squared_error(ytest,ypred)\n",
    "    rmse=np.sqrt(mse)\n",
    "    r2=r2_score(ytest,ypred)\n",
    "    print('MAE',mae)\n",
    "    print('MSE',mse)\n",
    "    print('Rmse',rmse)\n",
    "    print('R2 score',r2)\n",
    "       \n",
    "def mscore(model):\n",
    "    print(\"Training Score\",model.score(x_train,y_train))\n",
    "    print(\"Testing Score\",model.score(x_test,y_test))\n",
    "    "
   ]
  },
  {
   "cell_type": "code",
   "execution_count": null,
   "id": "68f66756",
   "metadata": {},
   "outputs": [],
   "source": []
  },
  {
   "cell_type": "code",
   "execution_count": 109,
   "id": "8e0200cb",
   "metadata": {},
   "outputs": [],
   "source": [
    "from sklearn.linear_model import LinearRegression,Ridge,Lasso\n",
    "from sklearn.ensemble import RandomForestClassifier\n",
    "from sklearn.tree import DecisionTreeClassifier\n",
    "from sklearn.ensemble import AdaBoostClassifier"
   ]
  },
  {
   "cell_type": "code",
   "execution_count": 110,
   "id": "2c71c2a1",
   "metadata": {},
   "outputs": [],
   "source": [
    "from sklearn.preprocessing import OneHotEncoder\n",
    "from sklearn.compose import ColumnTransformer\n",
    "from sklearn.pipeline import Pipeline"
   ]
  },
  {
   "cell_type": "code",
   "execution_count": 111,
   "id": "cca4ed60",
   "metadata": {},
   "outputs": [
    {
     "data": {
      "text/plain": [
       "Product     object\n",
       "Profit       int64\n",
       "Quantity     int64\n",
       "year         int64\n",
       "dtype: object"
      ]
     },
     "execution_count": 111,
     "metadata": {},
     "output_type": "execute_result"
    }
   ],
   "source": [
    "x_train.dtypes"
   ]
  },
  {
   "cell_type": "code",
   "execution_count": null,
   "id": "59fd2232",
   "metadata": {},
   "outputs": [],
   "source": []
  },
  {
   "cell_type": "code",
   "execution_count": 112,
   "id": "2a58d5dc",
   "metadata": {},
   "outputs": [
    {
     "name": "stdout",
     "output_type": "stream",
     "text": [
      "MAE 194.33502611970033\n",
      "MSE 120358.18720593084\n",
      "Rmse 346.9267749913962\n",
      "R2 score 0.5092201053164149\n",
      "Training Score 0.5591357466360165\n",
      "Testing Score 0.5092201053164149\n"
     ]
    }
   ],
   "source": [
    "step1=ColumnTransformer(transformers=[('ohe',OneHotEncoder(drop='first',sparse=False),[0])],remainder='passthrough')\n",
    "step2=LinearRegression()\n",
    "\n",
    "pipe_lr=Pipeline([('step1',step1),('step2',step2)])\n",
    "\n",
    "pipe_lr.fit(x_train,y_train)\n",
    "\n",
    "ypred_lr=pipe_lr.predict(x_test)\n",
    "\n",
    "reg_eval_matrics(y_test,ypred_lr)\n",
    "\n",
    "mscore(pipe_lr)"
   ]
  },
  {
   "cell_type": "code",
   "execution_count": null,
   "id": "154a9614",
   "metadata": {},
   "outputs": [],
   "source": []
  },
  {
   "cell_type": "code",
   "execution_count": 113,
   "id": "198837d9",
   "metadata": {},
   "outputs": [
    {
     "name": "stdout",
     "output_type": "stream",
     "text": [
      "MAE 195.6758745228898\n",
      "MSE 123341.08334354698\n",
      "Rmse 351.1994922313342\n",
      "R2 score 0.4970568658538055\n",
      "Training Score 0.5538066848023137\n",
      "Testing Score 0.4970568658538055\n"
     ]
    }
   ],
   "source": [
    "step1=ColumnTransformer(transformers=[('ohe',OneHotEncoder(drop='first',sparse=False),[0])],remainder='passthrough')\n",
    "step2=Ridge(alpha=2.41)\n",
    "\n",
    "pipe_rid=Pipeline([('step1',step1),('step2',step2)])\n",
    "\n",
    "pipe_rid.fit(x_train,y_train)\n",
    "\n",
    "ypred_rid=pipe_rid.predict(x_test)\n",
    "\n",
    "reg_eval_matrics(y_test,ypred_rid)\n",
    "\n",
    "mscore(pipe_rid)"
   ]
  },
  {
   "cell_type": "code",
   "execution_count": null,
   "id": "3c964288",
   "metadata": {},
   "outputs": [],
   "source": []
  },
  {
   "cell_type": "code",
   "execution_count": 114,
   "id": "69a3b98b",
   "metadata": {},
   "outputs": [
    {
     "name": "stdout",
     "output_type": "stream",
     "text": [
      "MAE 192.32131643502777\n",
      "MSE 121965.31875042616\n",
      "Rmse 349.2353343383601\n",
      "R2 score 0.5026667675796099\n",
      "Training Score 0.5567305527832428\n",
      "Testing Score 0.5026667675796099\n"
     ]
    }
   ],
   "source": [
    "step1=ColumnTransformer(transformers=[('ohe',OneHotEncoder(drop='first',sparse=False),[0])],remainder='passthrough')\n",
    "step2=Lasso(alpha=0.2)\n",
    "\n",
    "pipe_la=Pipeline([('step1',step1),('step2',step2)])\n",
    "\n",
    "pipe_la.fit(x_train,y_train)\n",
    "\n",
    "ypred_la=pipe_la.predict(x_test)\n",
    "\n",
    "reg_eval_matrics(y_test,ypred_la)\n",
    "\n",
    "mscore(pipe_la)"
   ]
  },
  {
   "cell_type": "code",
   "execution_count": null,
   "id": "c5d578e9",
   "metadata": {},
   "outputs": [],
   "source": []
  },
  {
   "cell_type": "code",
   "execution_count": 115,
   "id": "8a14ed55",
   "metadata": {},
   "outputs": [
    {
     "name": "stdout",
     "output_type": "stream",
     "text": [
      "MAE 190.18295904887714\n",
      "MSE 188858.88044914135\n",
      "Rmse 434.5789691749261\n",
      "R2 score 0.22989749506361778\n",
      "Training Score 0.5270805812417437\n",
      "Testing Score 0.028731836195508585\n"
     ]
    }
   ],
   "source": [
    "step1=ColumnTransformer(transformers=[('ohe',OneHotEncoder(drop='first',sparse=False),[0])],remainder='passthrough')\n",
    "step2= RandomForestClassifier(n_estimators=100,criterion='gini',max_depth=11,min_samples_split=7)\n",
    "\n",
    "pipe_rd=Pipeline([('step1',step1),('step2',step2)])\n",
    "\n",
    "pipe_rd.fit(x_train,y_train)\n",
    "\n",
    "ypred_rd=pipe_rd.predict(x_test)\n",
    "\n",
    "reg_eval_matrics(y_test,ypred_rd)\n",
    "\n",
    "mscore(pipe_rd)"
   ]
  },
  {
   "cell_type": "code",
   "execution_count": null,
   "id": "13056def",
   "metadata": {},
   "outputs": [],
   "source": []
  },
  {
   "cell_type": "code",
   "execution_count": 116,
   "id": "6e718fb1",
   "metadata": {},
   "outputs": [
    {
     "name": "stdout",
     "output_type": "stream",
     "text": [
      "MAE 176.23183619550858\n",
      "MSE 175907.14398943196\n",
      "Rmse 419.4128562519656\n",
      "R2 score 0.282710286642058\n",
      "Training Score 0.020695728753852928\n",
      "Testing Score 0.013540290620871863\n"
     ]
    }
   ],
   "source": [
    "step1=ColumnTransformer(transformers=[('ohe',OneHotEncoder(drop='first',sparse=False),[0])],remainder='passthrough')\n",
    "step2= DecisionTreeClassifier(max_depth=3,criterion='entropy',min_samples_split=8)\n",
    "\n",
    "pipe_dt=Pipeline([('step1',step1),('step2',step2)])\n",
    "\n",
    "pipe_dt.fit(x_train,y_train)\n",
    "\n",
    "ypred_dt=pipe_dt.predict(x_test)\n",
    "\n",
    "reg_eval_matrics(y_test,ypred_dt)\n",
    "\n",
    "mscore(pipe_dt)"
   ]
  },
  {
   "cell_type": "code",
   "execution_count": null,
   "id": "aec3aa6b",
   "metadata": {},
   "outputs": [],
   "source": []
  },
  {
   "cell_type": "code",
   "execution_count": 118,
   "id": "073462b1",
   "metadata": {},
   "outputs": [
    {
     "name": "stdout",
     "output_type": "stream",
     "text": [
      "MAE 229.22853368560106\n",
      "MSE 229664.77410832234\n",
      "Rmse 479.2335277381189\n",
      "R2 score 0.06350489097548007\n",
      "Training Score 0.011448701012769706\n",
      "Testing Score 0.007926023778071334\n"
     ]
    }
   ],
   "source": [
    "step1=ColumnTransformer(transformers=[('ohe',OneHotEncoder(drop='first',sparse=False),[0])],remainder='passthrough')\n",
    "step2= AdaBoostClassifier()\n",
    "\n",
    "pipe_ad=Pipeline([('step1',step1),('step2',step2)])\n",
    "\n",
    "pipe_ad.fit(x_train,y_train)\n",
    "\n",
    "ypred_ad=pipe_ad.predict(x_test)\n",
    "\n",
    "reg_eval_matrics(y_test,ypred_ad)\n",
    "\n",
    "mscore(pipe_ad)"
   ]
  },
  {
   "cell_type": "markdown",
   "id": "7430b215",
   "metadata": {},
   "source": [
    "#### Save and Load the  Model"
   ]
  },
  {
   "cell_type": "code",
   "execution_count": 119,
   "id": "ef312555",
   "metadata": {},
   "outputs": [],
   "source": [
    "import pickle"
   ]
  },
  {
   "cell_type": "code",
   "execution_count": 120,
   "id": "e7bdd933",
   "metadata": {},
   "outputs": [],
   "source": [
    "pickle.dump(pipe_lr,open('lr_model.pkl','wb'))\n",
    "pickle.dump(df,open('data.pkl','wb'))"
   ]
  },
  {
   "cell_type": "code",
   "execution_count": 121,
   "id": "53c70724",
   "metadata": {},
   "outputs": [
    {
     "data": {
      "text/html": [
       "<div>\n",
       "<style scoped>\n",
       "    .dataframe tbody tr th:only-of-type {\n",
       "        vertical-align: middle;\n",
       "    }\n",
       "\n",
       "    .dataframe tbody tr th {\n",
       "        vertical-align: top;\n",
       "    }\n",
       "\n",
       "    .dataframe thead th {\n",
       "        text-align: right;\n",
       "    }\n",
       "</style>\n",
       "<table border=\"1\" class=\"dataframe\">\n",
       "  <thead>\n",
       "    <tr style=\"text-align: right;\">\n",
       "      <th></th>\n",
       "      <th>Product</th>\n",
       "      <th>Sales</th>\n",
       "      <th>Profit</th>\n",
       "      <th>Quantity</th>\n",
       "      <th>year</th>\n",
       "    </tr>\n",
       "  </thead>\n",
       "  <tbody>\n",
       "    <tr>\n",
       "      <th>0</th>\n",
       "      <td>Enermax</td>\n",
       "      <td>45</td>\n",
       "      <td>-26</td>\n",
       "      <td>3</td>\n",
       "      <td>2013</td>\n",
       "    </tr>\n",
       "    <tr>\n",
       "      <th>1</th>\n",
       "      <td>Dania</td>\n",
       "      <td>854</td>\n",
       "      <td>290</td>\n",
       "      <td>7</td>\n",
       "      <td>2013</td>\n",
       "    </tr>\n",
       "    <tr>\n",
       "      <th>2</th>\n",
       "      <td>Binney</td>\n",
       "      <td>140</td>\n",
       "      <td>21</td>\n",
       "      <td>3</td>\n",
       "      <td>2013</td>\n",
       "    </tr>\n",
       "    <tr>\n",
       "      <th>3</th>\n",
       "      <td>Boston</td>\n",
       "      <td>27</td>\n",
       "      <td>-22</td>\n",
       "      <td>2</td>\n",
       "      <td>2013</td>\n",
       "    </tr>\n",
       "    <tr>\n",
       "      <th>4</th>\n",
       "      <td>Eldon</td>\n",
       "      <td>17</td>\n",
       "      <td>-1</td>\n",
       "      <td>2</td>\n",
       "      <td>2013</td>\n",
       "    </tr>\n",
       "    <tr>\n",
       "      <th>5</th>\n",
       "      <td>Binney</td>\n",
       "      <td>90</td>\n",
       "      <td>21</td>\n",
       "      <td>3</td>\n",
       "      <td>2013</td>\n",
       "    </tr>\n",
       "    <tr>\n",
       "      <th>6</th>\n",
       "      <td>Sanford</td>\n",
       "      <td>207</td>\n",
       "      <td>77</td>\n",
       "      <td>4</td>\n",
       "      <td>2013</td>\n",
       "    </tr>\n",
       "    <tr>\n",
       "      <th>7</th>\n",
       "      <td>Bush</td>\n",
       "      <td>155</td>\n",
       "      <td>36</td>\n",
       "      <td>1</td>\n",
       "      <td>2013</td>\n",
       "    </tr>\n",
       "    <tr>\n",
       "      <th>8</th>\n",
       "      <td>Accos</td>\n",
       "      <td>33</td>\n",
       "      <td>2</td>\n",
       "      <td>3</td>\n",
       "      <td>2013</td>\n",
       "    </tr>\n",
       "    <tr>\n",
       "      <th>9</th>\n",
       "      <td>Smead</td>\n",
       "      <td>716</td>\n",
       "      <td>143</td>\n",
       "      <td>4</td>\n",
       "      <td>2013</td>\n",
       "    </tr>\n",
       "    <tr>\n",
       "      <th>10</th>\n",
       "      <td>Ikea</td>\n",
       "      <td>987</td>\n",
       "      <td>-1012</td>\n",
       "      <td>6</td>\n",
       "      <td>2013</td>\n",
       "    </tr>\n",
       "    <tr>\n",
       "      <th>11</th>\n",
       "      <td>Binney</td>\n",
       "      <td>116</td>\n",
       "      <td>-56</td>\n",
       "      <td>5</td>\n",
       "      <td>2013</td>\n",
       "    </tr>\n",
       "    <tr>\n",
       "      <th>12</th>\n",
       "      <td>SAFCO</td>\n",
       "      <td>1384</td>\n",
       "      <td>14</td>\n",
       "      <td>3</td>\n",
       "      <td>2013</td>\n",
       "    </tr>\n",
       "    <tr>\n",
       "      <th>13</th>\n",
       "      <td>Binney</td>\n",
       "      <td>103</td>\n",
       "      <td>20</td>\n",
       "      <td>2</td>\n",
       "      <td>2013</td>\n",
       "    </tr>\n",
       "    <tr>\n",
       "      <th>14</th>\n",
       "      <td>Bevis</td>\n",
       "      <td>268</td>\n",
       "      <td>-342</td>\n",
       "      <td>2</td>\n",
       "      <td>2013</td>\n",
       "    </tr>\n",
       "    <tr>\n",
       "      <th>15</th>\n",
       "      <td>Novimex</td>\n",
       "      <td>40</td>\n",
       "      <td>6</td>\n",
       "      <td>5</td>\n",
       "      <td>2013</td>\n",
       "    </tr>\n",
       "    <tr>\n",
       "      <th>16</th>\n",
       "      <td>Boston</td>\n",
       "      <td>55</td>\n",
       "      <td>10</td>\n",
       "      <td>1</td>\n",
       "      <td>2013</td>\n",
       "    </tr>\n",
       "    <tr>\n",
       "      <th>17</th>\n",
       "      <td>Smead</td>\n",
       "      <td>97</td>\n",
       "      <td>31</td>\n",
       "      <td>2</td>\n",
       "      <td>2013</td>\n",
       "    </tr>\n",
       "    <tr>\n",
       "      <th>18</th>\n",
       "      <td>Ibico</td>\n",
       "      <td>22</td>\n",
       "      <td>7</td>\n",
       "      <td>3</td>\n",
       "      <td>2013</td>\n",
       "    </tr>\n",
       "    <tr>\n",
       "      <th>19</th>\n",
       "      <td>Green</td>\n",
       "      <td>34</td>\n",
       "      <td>-6</td>\n",
       "      <td>2</td>\n",
       "      <td>2013</td>\n",
       "    </tr>\n",
       "  </tbody>\n",
       "</table>\n",
       "</div>"
      ],
      "text/plain": [
       "    Product  Sales  Profit  Quantity  year\n",
       "0   Enermax     45     -26         3  2013\n",
       "1     Dania    854     290         7  2013\n",
       "2    Binney    140      21         3  2013\n",
       "3    Boston     27     -22         2  2013\n",
       "4     Eldon     17      -1         2  2013\n",
       "5    Binney     90      21         3  2013\n",
       "6   Sanford    207      77         4  2013\n",
       "7      Bush    155      36         1  2013\n",
       "8     Accos     33       2         3  2013\n",
       "9     Smead    716     143         4  2013\n",
       "10     Ikea    987   -1012         6  2013\n",
       "11   Binney    116     -56         5  2013\n",
       "12    SAFCO   1384      14         3  2013\n",
       "13   Binney    103      20         2  2013\n",
       "14    Bevis    268    -342         2  2013\n",
       "15  Novimex     40       6         5  2013\n",
       "16   Boston     55      10         1  2013\n",
       "17    Smead     97      31         2  2013\n",
       "18    Ibico     22       7         3  2013\n",
       "19    Green     34      -6         2  2013"
      ]
     },
     "execution_count": 121,
     "metadata": {},
     "output_type": "execute_result"
    }
   ],
   "source": [
    "df.head(20)"
   ]
  },
  {
   "cell_type": "code",
   "execution_count": 122,
   "id": "2539fffd",
   "metadata": {},
   "outputs": [
    {
     "data": {
      "text/plain": [
       "2016    2431\n",
       "2015    1989\n",
       "2014    1762\n",
       "2013    1388\n",
       "Name: year, dtype: int64"
      ]
     },
     "execution_count": 122,
     "metadata": {},
     "output_type": "execute_result"
    }
   ],
   "source": [
    "df['year'].value_counts()"
   ]
  },
  {
   "cell_type": "code",
   "execution_count": null,
   "id": "9652a585",
   "metadata": {},
   "outputs": [],
   "source": []
  }
 ],
 "metadata": {
  "kernelspec": {
   "display_name": "Python 3 (ipykernel)",
   "language": "python",
   "name": "python3"
  },
  "language_info": {
   "codemirror_mode": {
    "name": "ipython",
    "version": 3
   },
   "file_extension": ".py",
   "mimetype": "text/x-python",
   "name": "python",
   "nbconvert_exporter": "python",
   "pygments_lexer": "ipython3",
   "version": "3.9.13"
  }
 },
 "nbformat": 4,
 "nbformat_minor": 5
}
